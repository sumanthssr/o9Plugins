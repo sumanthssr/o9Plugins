{
 "cells": [
  {
   "cell_type": "code",
   "execution_count": 2,
   "id": "323f1a14-0b2a-45b0-a80c-2ff2589df2fe",
   "metadata": {
    "tags": [
     "o9_ignore"
    ]
   },
   "outputs": [
    {
     "name": "stdout",
     "output_type": "stream",
     "text": [
      "INFO:root:IbplClient: WebApi Request Url = [https://mygcpbambi.o9solutions.com/api/ibplquery/5240/ExecuteCompactJsonQuery]\n",
      "DEBUG:urllib3.connectionpool:Starting new HTTPS connection (1): mygcpbambi.o9solutions.com:443\n",
      "DEBUG:urllib3.connectionpool:https://mygcpbambi.o9solutions.com:443 \"POST /api/ibplquery/5240/ExecuteCompactJsonQuery HTTP/1.1\" 200 None\n",
      "INFO:root:IbplClient: WebApi Request Url = [https://mygcpbambi.o9solutions.com/api/ibplquery/5240/ExecuteCompactJsonQuery]\n",
      "DEBUG:urllib3.connectionpool:Starting new HTTPS connection (1): mygcpbambi.o9solutions.com:443\n",
      "DEBUG:urllib3.connectionpool:https://mygcpbambi.o9solutions.com:443 \"POST /api/ibplquery/5240/ExecuteCompactJsonQuery HTTP/1.1\" 200 None\n",
      "INFO:root:IbplClient: WebApi Request Url = [https://mygcpbambi.o9solutions.com/api/ibplquery/5240/ExecuteCompactJsonQuery]\n",
      "DEBUG:urllib3.connectionpool:Starting new HTTPS connection (1): mygcpbambi.o9solutions.com:443\n",
      "DEBUG:urllib3.connectionpool:https://mygcpbambi.o9solutions.com:443 \"POST /api/ibplquery/5240/ExecuteCompactJsonQuery HTTP/1.1\" 200 None\n",
      "INFO:root:IbplClient: WebApi Request Url = [https://mygcpbambi.o9solutions.com/api/ibplquery/5240/ExecuteCompactJsonQuery]\n",
      "DEBUG:urllib3.connectionpool:Starting new HTTPS connection (1): mygcpbambi.o9solutions.com:443\n",
      "DEBUG:urllib3.connectionpool:https://mygcpbambi.o9solutions.com:443 \"POST /api/ibplquery/5240/ExecuteCompactJsonQuery HTTP/1.1\" 200 None\n"
     ]
    }
   ],
   "source": [
    "from o9_common_utils.O9DataLake import O9DataLake, ResourceType, DataSource\n",
    "query1 = \"select (Version.[Version Name]*Product.[Product].[196426]*Time.FiscalWeek*SalesAccount.[Account]*Location.[Location]*{Measure.[DPSellOutUnitsActuals],Measure.[Mean Pricing Save PCT],Measure.[Placement Count],Measure.[Promotion Count],Measure.[DPSellOutPrice]});\"\n",
    "query2 = \"select (Version.[Version Name]*Product.[Product].[196426]*Time.FiscalWeek*SalesAccount.[Account]*Location.[Location]*{Measure.[DPSellOutUnitsActuals],Measure.[Mean Pricing Save PCT],Measure.[Placement Count],Measure.[Promotion Count],Measure.[DPSellOutPrice]});\"\n",
    "inp1 = O9DataLake.register(\"sales_df\",DataSource.LS, ResourceType.IBPL, query1)\n",
    "inp2 = O9DataLake.register(\"DPBaseInputs\",DataSource.LS, ResourceType.IBPL, query2) "
   ]
  },
  {
   "cell_type": "code",
   "execution_count": 8,
   "id": "9ad02e21-49af-414c-9a83-45816ff267f1",
   "metadata": {},
   "outputs": [
    {
     "name": "stdout",
     "output_type": "stream",
     "text": [
      "INFO:root:IbplClient: WebApi Request Url = [https://mygcpbambi.o9solutions.com/api/ibplquery/5240/ExecuteCompactJsonQuery]\n",
      "DEBUG:urllib3.connectionpool:Starting new HTTPS connection (1): mygcpbambi.o9solutions.com:443\n",
      "DEBUG:urllib3.connectionpool:https://mygcpbambi.o9solutions.com:443 \"POST /api/ibplquery/5240/ExecuteCompactJsonQuery HTTP/1.1\" 200 None\n",
      "INFO:root:IbplClient: WebApi Request Url = [https://mygcpbambi.o9solutions.com/api/ibplquery/5240/ExecuteCompactJsonQuery]\n",
      "DEBUG:urllib3.connectionpool:Starting new HTTPS connection (1): mygcpbambi.o9solutions.com:443\n",
      "DEBUG:urllib3.connectionpool:https://mygcpbambi.o9solutions.com:443 \"POST /api/ibplquery/5240/ExecuteCompactJsonQuery HTTP/1.1\" 200 None\n"
     ]
    }
   ],
   "source": [
    "df = O9DataLake.get('sales_df')"
   ]
  },
  {
   "cell_type": "code",
   "execution_count": 9,
   "id": "91d791cb-e1ec-485e-beeb-559d134c4c55",
   "metadata": {
    "tags": [
     "o9_ignore"
    ]
   },
   "outputs": [
    {
     "data": {
      "text/html": [
       "<div>\n",
       "<style scoped>\n",
       "    .dataframe tbody tr th:only-of-type {\n",
       "        vertical-align: middle;\n",
       "    }\n",
       "\n",
       "    .dataframe tbody tr th {\n",
       "        vertical-align: top;\n",
       "    }\n",
       "\n",
       "    .dataframe thead th {\n",
       "        text-align: right;\n",
       "    }\n",
       "</style>\n",
       "<table border=\"1\" class=\"dataframe\">\n",
       "  <thead>\n",
       "    <tr style=\"text-align: right;\">\n",
       "      <th></th>\n",
       "      <th>Version.[Version Name]</th>\n",
       "      <th>Product.[Product]</th>\n",
       "      <th>Time.[FiscalWeek]</th>\n",
       "      <th>SalesAccount.[Account]</th>\n",
       "      <th>Location.[Location]</th>\n",
       "      <th>DPSellOutUnitsActuals</th>\n",
       "      <th>Mean Pricing Save PCT</th>\n",
       "      <th>Placement Count</th>\n",
       "      <th>Promotion Count</th>\n",
       "      <th>DPSellOutPrice</th>\n",
       "    </tr>\n",
       "  </thead>\n",
       "  <tbody>\n",
       "    <tr>\n",
       "      <th>0</th>\n",
       "      <td>S1</td>\n",
       "      <td>196426</td>\n",
       "      <td>W03-2016</td>\n",
       "      <td>ALL</td>\n",
       "      <td>ALL</td>\n",
       "      <td>1.0</td>\n",
       "      <td>NaN</td>\n",
       "      <td>NaN</td>\n",
       "      <td>NaN</td>\n",
       "      <td>10.0</td>\n",
       "    </tr>\n",
       "    <tr>\n",
       "      <th>1</th>\n",
       "      <td>CurrentWorkingView</td>\n",
       "      <td>196426</td>\n",
       "      <td>W03-2016</td>\n",
       "      <td>ALL</td>\n",
       "      <td>ALL</td>\n",
       "      <td>10.0</td>\n",
       "      <td>NaN</td>\n",
       "      <td>NaN</td>\n",
       "      <td>NaN</td>\n",
       "      <td>10.0</td>\n",
       "    </tr>\n",
       "    <tr>\n",
       "      <th>2</th>\n",
       "      <td>S1</td>\n",
       "      <td>196426</td>\n",
       "      <td>W05-2016</td>\n",
       "      <td>ALL</td>\n",
       "      <td>ALL</td>\n",
       "      <td>2.0</td>\n",
       "      <td>NaN</td>\n",
       "      <td>NaN</td>\n",
       "      <td>NaN</td>\n",
       "      <td>10.0</td>\n",
       "    </tr>\n",
       "    <tr>\n",
       "      <th>3</th>\n",
       "      <td>CurrentWorkingView</td>\n",
       "      <td>196426</td>\n",
       "      <td>W05-2016</td>\n",
       "      <td>ALL</td>\n",
       "      <td>ALL</td>\n",
       "      <td>10.0</td>\n",
       "      <td>NaN</td>\n",
       "      <td>NaN</td>\n",
       "      <td>NaN</td>\n",
       "      <td>10.0</td>\n",
       "    </tr>\n",
       "    <tr>\n",
       "      <th>4</th>\n",
       "      <td>S1</td>\n",
       "      <td>196426</td>\n",
       "      <td>W08-2016</td>\n",
       "      <td>ALL</td>\n",
       "      <td>ALL</td>\n",
       "      <td>1.0</td>\n",
       "      <td>NaN</td>\n",
       "      <td>NaN</td>\n",
       "      <td>NaN</td>\n",
       "      <td>10.0</td>\n",
       "    </tr>\n",
       "  </tbody>\n",
       "</table>\n",
       "</div>"
      ],
      "text/plain": [
       "  Version.[Version Name] Product.[Product] Time.[FiscalWeek]  \\\n",
       "0                     S1            196426          W03-2016   \n",
       "1     CurrentWorkingView            196426          W03-2016   \n",
       "2                     S1            196426          W05-2016   \n",
       "3     CurrentWorkingView            196426          W05-2016   \n",
       "4                     S1            196426          W08-2016   \n",
       "\n",
       "  SalesAccount.[Account] Location.[Location]  DPSellOutUnitsActuals  \\\n",
       "0                    ALL                 ALL                    1.0   \n",
       "1                    ALL                 ALL                   10.0   \n",
       "2                    ALL                 ALL                    2.0   \n",
       "3                    ALL                 ALL                   10.0   \n",
       "4                    ALL                 ALL                    1.0   \n",
       "\n",
       "   Mean Pricing Save PCT  Placement Count  Promotion Count  DPSellOutPrice  \n",
       "0                    NaN              NaN              NaN            10.0  \n",
       "1                    NaN              NaN              NaN            10.0  \n",
       "2                    NaN              NaN              NaN            10.0  \n",
       "3                    NaN              NaN              NaN            10.0  \n",
       "4                    NaN              NaN              NaN            10.0  "
      ]
     },
     "execution_count": 9,
     "metadata": {},
     "output_type": "execute_result"
    }
   ],
   "source": [
    "df.head()"
   ]
  },
  {
   "cell_type": "code",
   "execution_count": 5,
   "id": "754413d8-22b2-46ed-8682-349e9393e0bc",
   "metadata": {},
   "outputs": [],
   "source": [
    "inp1['DPSellOutPrice'] = 10"
   ]
  },
  {
   "cell_type": "code",
   "execution_count": 6,
   "id": "0ab99a8a-2b1f-4739-a4a5-2ad2c6d4fbd0",
   "metadata": {},
   "outputs": [
    {
     "data": {
      "text/html": [
       "<div>\n",
       "<style scoped>\n",
       "    .dataframe tbody tr th:only-of-type {\n",
       "        vertical-align: middle;\n",
       "    }\n",
       "\n",
       "    .dataframe tbody tr th {\n",
       "        vertical-align: top;\n",
       "    }\n",
       "\n",
       "    .dataframe thead th {\n",
       "        text-align: right;\n",
       "    }\n",
       "</style>\n",
       "<table border=\"1\" class=\"dataframe\">\n",
       "  <thead>\n",
       "    <tr style=\"text-align: right;\">\n",
       "      <th></th>\n",
       "      <th>Version.[Version Name]</th>\n",
       "      <th>Product.[Product]</th>\n",
       "      <th>Time.[FiscalWeek]</th>\n",
       "      <th>SalesAccount.[Account]</th>\n",
       "      <th>Location.[Location]</th>\n",
       "      <th>DPSellOutUnitsActuals</th>\n",
       "      <th>Mean Pricing Save PCT</th>\n",
       "      <th>Placement Count</th>\n",
       "      <th>Promotion Count</th>\n",
       "      <th>DPSellOutPrice</th>\n",
       "    </tr>\n",
       "  </thead>\n",
       "  <tbody>\n",
       "    <tr>\n",
       "      <th>0</th>\n",
       "      <td>S1</td>\n",
       "      <td>196426</td>\n",
       "      <td>W03-2016</td>\n",
       "      <td>ALL</td>\n",
       "      <td>ALL</td>\n",
       "      <td>1.0</td>\n",
       "      <td>NaN</td>\n",
       "      <td>NaN</td>\n",
       "      <td>NaN</td>\n",
       "      <td>10</td>\n",
       "    </tr>\n",
       "    <tr>\n",
       "      <th>1</th>\n",
       "      <td>CurrentWorkingView</td>\n",
       "      <td>196426</td>\n",
       "      <td>W03-2016</td>\n",
       "      <td>ALL</td>\n",
       "      <td>ALL</td>\n",
       "      <td>10.0</td>\n",
       "      <td>NaN</td>\n",
       "      <td>NaN</td>\n",
       "      <td>NaN</td>\n",
       "      <td>10</td>\n",
       "    </tr>\n",
       "    <tr>\n",
       "      <th>2</th>\n",
       "      <td>S1</td>\n",
       "      <td>196426</td>\n",
       "      <td>W05-2016</td>\n",
       "      <td>ALL</td>\n",
       "      <td>ALL</td>\n",
       "      <td>2.0</td>\n",
       "      <td>NaN</td>\n",
       "      <td>NaN</td>\n",
       "      <td>NaN</td>\n",
       "      <td>10</td>\n",
       "    </tr>\n",
       "    <tr>\n",
       "      <th>3</th>\n",
       "      <td>CurrentWorkingView</td>\n",
       "      <td>196426</td>\n",
       "      <td>W05-2016</td>\n",
       "      <td>ALL</td>\n",
       "      <td>ALL</td>\n",
       "      <td>10.0</td>\n",
       "      <td>NaN</td>\n",
       "      <td>NaN</td>\n",
       "      <td>NaN</td>\n",
       "      <td>10</td>\n",
       "    </tr>\n",
       "    <tr>\n",
       "      <th>4</th>\n",
       "      <td>S1</td>\n",
       "      <td>196426</td>\n",
       "      <td>W08-2016</td>\n",
       "      <td>ALL</td>\n",
       "      <td>ALL</td>\n",
       "      <td>1.0</td>\n",
       "      <td>NaN</td>\n",
       "      <td>NaN</td>\n",
       "      <td>NaN</td>\n",
       "      <td>10</td>\n",
       "    </tr>\n",
       "  </tbody>\n",
       "</table>\n",
       "</div>"
      ],
      "text/plain": [
       "  Version.[Version Name] Product.[Product] Time.[FiscalWeek]  \\\n",
       "0                     S1            196426          W03-2016   \n",
       "1     CurrentWorkingView            196426          W03-2016   \n",
       "2                     S1            196426          W05-2016   \n",
       "3     CurrentWorkingView            196426          W05-2016   \n",
       "4                     S1            196426          W08-2016   \n",
       "\n",
       "  SalesAccount.[Account] Location.[Location]  DPSellOutUnitsActuals  \\\n",
       "0                    ALL                 ALL                    1.0   \n",
       "1                    ALL                 ALL                   10.0   \n",
       "2                    ALL                 ALL                    2.0   \n",
       "3                    ALL                 ALL                   10.0   \n",
       "4                    ALL                 ALL                    1.0   \n",
       "\n",
       "   Mean Pricing Save PCT  Placement Count  Promotion Count  DPSellOutPrice  \n",
       "0                    NaN              NaN              NaN              10  \n",
       "1                    NaN              NaN              NaN              10  \n",
       "2                    NaN              NaN              NaN              10  \n",
       "3                    NaN              NaN              NaN              10  \n",
       "4                    NaN              NaN              NaN              10  "
      ]
     },
     "execution_count": 6,
     "metadata": {},
     "output_type": "execute_result"
    }
   ],
   "source": [
    "inp1.head()"
   ]
  },
  {
   "cell_type": "code",
   "execution_count": 7,
   "id": "077dee30-b150-4c67-8140-0baceb3e5dc1",
   "metadata": {},
   "outputs": [
    {
     "name": "stdout",
     "output_type": "stream",
     "text": [
      "DEBUG:urllib3.connectionpool:Starting new HTTPS connection (1): mygcpbambi.o9solutions.com:443\n",
      "DEBUG:urllib3.connectionpool:https://mygcpbambi.o9solutions.com:443 \"GET /api/framework/sessions/session/authToken?authToken=5flayui2ap1ljhn4meirmcw5 HTTP/1.1\" 200 None\n",
      "INFO:o9_sys_logger:Uploading LOCAL file: /tmp/tmpx41b2c30/Fact.DPBaseOutput1.csv\n",
      "INFO:o9_sys_logger:Is the file parquet: False\n",
      "INFO:o9_sys_logger:Uploading /tmp/tmpx41b2c30/Fact.DPBaseOutput1.csv to Live Server cloud\n",
      "INFO:o9_sys_logger:File size less than 256 MB\n",
      "INFO:o9_sys_logger:Uploading to /fileUpload endpoint\n",
      "INFO:o9_sys_logger:Uploading /tmp/tmpx41b2c30/Fact.DPBaseOutput1.csv to Live Server cloud\n",
      "DEBUG:urllib3.connectionpool:Starting new HTTPS connection (1): mygcpbambi.o9solutions.com:443\n",
      "DEBUG:urllib3.connectionpool:https://mygcpbambi.o9solutions.com:443 \"POST /api/upload/fileUpload HTTP/1.1\" 200 None\n",
      "INFO:o9_sys_logger:Uploaded the file successfully\n",
      "INFO:o9_sys_logger:Uploading cloud files at: \"gcp://MMc4ee9dJS9MHdpILVnSjlkpt-QAOoBZImbfZ_y8URE4m54_QrSKgPo3U2VdFxvbydjsBGdcgrfpn2UwvB2-SUjpr8ysPSS6o4LyIh0__aA1\"\n",
      "INFO:root:IbplClient: WebApi Request Url = [https://mygcpbambi.o9solutions.com/api/framework/sessions/session]\n",
      "DEBUG:urllib3.connectionpool:Starting new HTTPS connection (1): mygcpbambi.o9solutions.com:443\n",
      "DEBUG:urllib3.connectionpool:https://mygcpbambi.o9solutions.com:443 \"GET /api/framework/sessions/session HTTP/1.1\" 200 None\n",
      "INFO:root:logged into tenant pyplatformhivetest successfully\n",
      "INFO:root:IbplClient: WebApi Request Url = [https://mygcpbambi.o9solutions.com/api/user]\n",
      "DEBUG:urllib3.connectionpool:Starting new HTTPS connection (1): mygcpbambi.o9solutions.com:443\n",
      "DEBUG:urllib3.connectionpool:https://mygcpbambi.o9solutions.com:443 \"GET /api/user HTTP/1.1\" 200 None\n",
      "DEBUG:urllib3.connectionpool:Starting new HTTPS connection (1): mygcpbambi.o9solutions.com:443\n",
      "DEBUG:urllib3.connectionpool:https://mygcpbambi.o9solutions.com:443 \"GET /api/framework/sessions/session/authToken?authToken=5flayui2ap1ljhn4meirmcw5 HTTP/1.1\" 200 None\n",
      "DEBUG:urllib3.connectionpool:Starting new HTTPS connection (1): mygcpbambi.o9solutions.com:443\n",
      "DEBUG:urllib3.connectionpool:https://mygcpbambi.o9solutions.com:443 \"POST /api/ibplquery/5240/ExecuteQuery HTTP/1.1\" 200 None\n",
      "INFO:o9_sys_logger:200, OK\n",
      "INFO:root:Response json:\n",
      "{\"Result\":\"[{\\\"FileName\\\":\\\"Fact.DPBaseOutput1.csv\\\",\\\"SheetName\\\":\\\"Fact.DPBaseOutput1.csv\\\",\\\"TotalRows\\\":14,\\\"ProcessedRows\\\":14,\\\"Status\\\":\\\"Success\\\",\\\"Messages\\\":[\\\"Total Rows: [14]. Successfully Processed Rows: [14].\\\"],\\\"FileId\\\":\\\"gcp://MMc4ee9dJS9MHdpILVnSjlkpt-QAOoBZImbfZ_y8URE4m54_QrSKgPo3U2VdFxvbydjsBGdcgrfpn2UwvB2-SUjpr8ysPSS6o4LyIh0__aA1\\\"}]\",\"QueryGuid\":\"be44ea31-8a9d-4ed9-ab4b-67418c273a48\",\"ImpactHeader\":{\"TenantId\":5240,\"TransactionId\":\"00000000-0000-0000-0000-000000000000\",\"UpdatedMembers\":null,\"CreatedMembers\":null,\"DeletedMembers\":null,\"ModelImpact\":{\"DemandPlanning.Core.Inputs\":{\"DPBaseInputs\":[\"DPSellOutUnitsActuals\",\"Mean Pricing Save PCT\",\"Placement Count\",\"Promotion Count\",\"DPSellOutPrice\"]}}}}\n",
      "INFO:o9_sys_logger:{'FileName': 'Fact.DPBaseOutput1.csv', 'SheetName': 'Fact.DPBaseOutput1.csv', 'TotalRows': 14, 'ProcessedRows': 14, 'Status': 'Success', 'Messages': ['Total Rows: [14]. Successfully Processed Rows: [14].'], 'FileId': 'gcp://MMc4ee9dJS9MHdpILVnSjlkpt-QAOoBZImbfZ_y8URE4m54_QrSKgPo3U2VdFxvbydjsBGdcgrfpn2UwvB2-SUjpr8ysPSS6o4LyIh0__aA1'}\n"
     ]
    }
   ],
   "source": [
    "O9DataLake.put('DPBaseOutput1',inp1)"
   ]
  },
  {
   "cell_type": "code",
   "execution_count": null,
   "id": "256bc4ef-7101-4751-997d-f4fc7abd96b7",
   "metadata": {},
   "outputs": [],
   "source": []
  }
 ],
 "metadata": {
  "kernelspec": {
   "display_name": "[pyplatformhivetest] Tenant Conda Environment",
   "language": "python",
   "name": "qarelease_pyplatformhivetest"
  },
  "language_info": {
   "codemirror_mode": {
    "name": "ipython",
    "version": 3
   },
   "file_extension": ".py",
   "mimetype": "text/x-python",
   "name": "python",
   "nbconvert_exporter": "python",
   "pygments_lexer": "ipython3",
   "version": "3.7.10"
  },
  "notebook_dict": {
   "ClassName": "o9.GraphCube.Plugins.Python.PythonScript",
   "InstanceName": "starbucksSales",
   "SliceKeys": [
    {
     "AttributeName": "Version Name",
     "DimensionName": "Version"
    }
   ],
   "file_path": "loaded_notebooks/starbucksSales.ipynb",
   "o9_selected_plugin_id": 38803
  }
 },
 "nbformat": 4,
 "nbformat_minor": 5
}
